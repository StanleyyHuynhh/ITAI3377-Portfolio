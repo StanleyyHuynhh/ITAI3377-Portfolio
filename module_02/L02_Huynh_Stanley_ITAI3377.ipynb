{
  "cells": [
    {
      "cell_type": "code",
      "execution_count": null,
      "id": "308bc898-7c99-46ca-bbc1-ce361682a19b",
      "metadata": {
        "id": "308bc898-7c99-46ca-bbc1-ce361682a19b",
        "outputId": "3b669cc0-cd4f-433c-b3f1-b9ecf9182cab"
      },
      "outputs": [
        {
          "name": "stdout",
          "output_type": "stream",
          "text": [
            "Python 3.12.7\n"
          ]
        }
      ],
      "source": [
        "!python --version !pip show tensorflow"
      ]
    },
    {
      "cell_type": "code",
      "execution_count": null,
      "id": "7524ec4d-b70d-4b07-836e-53b60d44c086",
      "metadata": {
        "id": "7524ec4d-b70d-4b07-836e-53b60d44c086"
      },
      "outputs": [],
      "source": [
        "# !pip install tensorflow"
      ]
    },
    {
      "cell_type": "code",
      "execution_count": null,
      "id": "433b56aa-839e-49e2-8d02-7ddd4c88ed8b",
      "metadata": {
        "id": "433b56aa-839e-49e2-8d02-7ddd4c88ed8b"
      },
      "outputs": [],
      "source": [
        "# !pip install jupyter\n",
        "# !jupyter notebook"
      ]
    },
    {
      "cell_type": "code",
      "execution_count": null,
      "id": "7b317046-ce04-47b9-817a-ede6039a5ea5",
      "metadata": {
        "id": "7b317046-ce04-47b9-817a-ede6039a5ea5"
      },
      "outputs": [],
      "source": [
        "import tensorflow as tf\n",
        "from tensorflow.keras.datasets import mnist\n",
        "import numpy as np\n",
        "import matplotlib.pyplot as plt"
      ]
    },
    {
      "cell_type": "code",
      "execution_count": null,
      "id": "2f6658aa-156b-4283-b3bb-a79e36223c53",
      "metadata": {
        "id": "2f6658aa-156b-4283-b3bb-a79e36223c53"
      },
      "outputs": [],
      "source": [
        "# Load MNIST dataset\n",
        "(x_train, y_train), (x_test, y_test) = mnist.load_data()"
      ]
    },
    {
      "cell_type": "code",
      "execution_count": null,
      "id": "f8d57aa1-7b90-47cf-9904-c7a2f2b8f21e",
      "metadata": {
        "id": "f8d57aa1-7b90-47cf-9904-c7a2f2b8f21e"
      },
      "outputs": [],
      "source": [
        "# Normalize data (scale pixel values between 0 and 1)\n",
        "x_train, x_test = x_train / 255.0, x_test / 255.0"
      ]
    },
    {
      "cell_type": "code",
      "execution_count": null,
      "id": "3e734c17-3215-4827-8f63-8fa458554ed0",
      "metadata": {
        "id": "3e734c17-3215-4827-8f63-8fa458554ed0",
        "outputId": "0d2468d4-ddf0-4f86-c9da-e66490f1d56f"
      },
      "outputs": [
        {
          "data": {
            "image/png": "[encoded data removed]",
            "text/plain": [
              "<Figure size 500x500 with 9 Axes>"
            ]
          },
          "metadata": {},
          "output_type": "display_data"
        }
      ],
      "source": [
        "# Show sample images\n",
        "plt.figure(figsize=(5,5))\n",
        "for i in range(9):\n",
        "    plt.subplot(3,3,i+1)\n",
        "    plt.imshow(x_train[i], cmap=\"gray\")\n",
        "    plt.axis('off')\n",
        "plt.show()"
      ]
    },
    {
      "cell_type": "code",
      "execution_count": null,
      "id": "ca54ad9d-3056-4de6-a673-6c6c02915660",
      "metadata": {
        "id": "ca54ad9d-3056-4de6-a673-6c6c02915660",
        "outputId": "46157706-928c-4d0c-92b1-6255b7b1bed6"
      },
      "outputs": [
        {
          "name": "stderr",
          "output_type": "stream",
          "text": [
            "C:\\Users\\lolit\\AppData\\Local\\Programs\\Python\\Python312\\Lib\\site-packages\\keras\\src\\layers\\reshaping\\flatten.py:37: UserWarning: Do not pass an `input_shape`/`input_dim` argument to a layer. When using Sequential models, prefer using an `Input(shape)` object as the first layer in the model instead.\n",
            "  super().__init__(**kwargs)\n"
          ]
        }
      ],
      "source": [
        "# Define model architecture\n",
        "model = tf.keras.models.Sequential([\n",
        "    tf.keras.layers.Flatten(input_shape=(28,28)),\n",
        "    # Input layer (flatten 28x28 pixels)\n",
        "    tf.keras.layers.Dense(128, activation='relu'),\n",
        "    # Hidden layer\n",
        "    tf.keras.layers.Dense(10, activation='softmax')\n",
        "    # Output layer (10 classes)\n",
        "])"
      ]
    },
    {
      "cell_type": "code",
      "execution_count": null,
      "id": "be408db2-b22a-4f9c-ad46-ebaf0918da8f",
      "metadata": {
        "id": "be408db2-b22a-4f9c-ad46-ebaf0918da8f"
      },
      "outputs": [],
      "source": [
        "# Compile model\n",
        "model.compile(optimizer='adam', loss='sparse_categorical_crossentropy', metrics=['accuracy'])"
      ]
    },
    {
      "cell_type": "code",
      "execution_count": null,
      "id": "07b40d98-0742-4820-b81b-08f52a0a0bfc",
      "metadata": {
        "id": "07b40d98-0742-4820-b81b-08f52a0a0bfc",
        "outputId": "b2726777-7581-4a05-990c-31fc57d83515"
      },
      "outputs": [
        {
          "name": "stdout",
          "output_type": "stream",
          "text": [
            "Epoch 1/5\n",
            "\u001b[1m1875/1875\u001b[0m \u001b[32m━━━━━━━━━━━━━━━━━━━━\u001b[0m\u001b[37m\u001b[0m \u001b[1m3s\u001b[0m 1ms/step - accuracy: 0.8778 - loss: 0.4313 - val_accuracy: 0.9578 - val_loss: 0.1399\n",
            "Epoch 2/5\n",
            "\u001b[1m1875/1875\u001b[0m \u001b[32m━━━━━━━━━━━━━━━━━━━━\u001b[0m\u001b[37m\u001b[0m \u001b[1m2s\u001b[0m 1ms/step - accuracy: 0.9644 - loss: 0.1203 - val_accuracy: 0.9731 - val_loss: 0.0920\n",
            "Epoch 3/5\n",
            "\u001b[1m1875/1875\u001b[0m \u001b[32m━━━━━━━━━━━━━━━━━━━━\u001b[0m\u001b[37m\u001b[0m \u001b[1m2s\u001b[0m 1ms/step - accuracy: 0.9755 - loss: 0.0804 - val_accuracy: 0.9761 - val_loss: 0.0787\n",
            "Epoch 4/5\n",
            "\u001b[1m1875/1875\u001b[0m \u001b[32m━━━━━━━━━━━━━━━━━━━━\u001b[0m\u001b[37m\u001b[0m \u001b[1m2s\u001b[0m 1ms/step - accuracy: 0.9828 - loss: 0.0559 - val_accuracy: 0.9741 - val_loss: 0.0858\n",
            "Epoch 5/5\n",
            "\u001b[1m1875/1875\u001b[0m \u001b[32m━━━━━━━━━━━━━━━━━━━━\u001b[0m\u001b[37m\u001b[0m \u001b[1m2s\u001b[0m 1ms/step - accuracy: 0.9870 - loss: 0.0429 - val_accuracy: 0.9777 - val_loss: 0.0727\n"
          ]
        },
        {
          "data": {
            "text/plain": [
              "<keras.src.callbacks.history.History at 0x2a79a37a6f0>"
            ]
          },
          "execution_count": 10,
          "metadata": {},
          "output_type": "execute_result"
        }
      ],
      "source": [
        "# Train model\n",
        "model.fit(x_train, y_train, epochs=5, validation_data=(x_test, y_test))"
      ]
    },
    {
      "cell_type": "code",
      "execution_count": null,
      "id": "d36d386a-eb82-40cd-a72c-9a2c10d612a8",
      "metadata": {
        "id": "d36d386a-eb82-40cd-a72c-9a2c10d612a8",
        "outputId": "92703a2a-4bec-4e76-9b72-2c04c688340d"
      },
      "outputs": [
        {
          "name": "stderr",
          "output_type": "stream",
          "text": [
            "WARNING:absl:You are saving your model as an HDF5 file via `model.save()` or `keras.saving.save_model(model)`. This file format is considered legacy. We recommend using instead the native Keras format, e.g. `model.save('my_model.keras')` or `keras.saving.save_model(model, 'my_model.keras')`. \n"
          ]
        },
        {
          "name": "stdout",
          "output_type": "stream",
          "text": [
            "Model training complete and saved as mnist_model.h5\n"
          ]
        }
      ],
      "source": [
        "# Save trained model\n",
        "model.save(\"mnist_model.h5\")\n",
        "print(\"Model training complete and saved as mnist_model.h5\")"
      ]
    },
    {
      "cell_type": "code",
      "execution_count": null,
      "id": "28e9b62c-6610-4bbb-899b-bd90d52f5fcf",
      "metadata": {
        "id": "28e9b62c-6610-4bbb-899b-bd90d52f5fcf",
        "outputId": "1de2c074-4e18-464b-d66f-44b2f108cb69"
      },
      "outputs": [
        {
          "name": "stderr",
          "output_type": "stream",
          "text": [
            "WARNING:absl:Compiled the loaded model, but the compiled metrics have yet to be built. `model.compile_metrics` will be empty until you train or evaluate the model.\n"
          ]
        }
      ],
      "source": [
        "# Load trained model\n",
        "model = tf.keras.models.load_model(\"mnist_model.h5\")"
      ]
    },
    {
      "cell_type": "code",
      "execution_count": null,
      "id": "9cbf242c-7040-4c98-bbea-bd09c1c8d749",
      "metadata": {
        "id": "9cbf242c-7040-4c98-bbea-bd09c1c8d749",
        "outputId": "fd0408e0-e406-4721-adc9-1dba8d87c8bb"
      },
      "outputs": [
        {
          "name": "stdout",
          "output_type": "stream",
          "text": [
            "INFO:tensorflow:Assets written to: C:\\Users\\lolit\\AppData\\Local\\Temp\\tmprze67jt8\\assets\n"
          ]
        },
        {
          "name": "stderr",
          "output_type": "stream",
          "text": [
            "INFO:tensorflow:Assets written to: C:\\Users\\lolit\\AppData\\Local\\Temp\\tmprze67jt8\\assets\n"
          ]
        },
        {
          "name": "stdout",
          "output_type": "stream",
          "text": [
            "Saved artifact at 'C:\\Users\\lolit\\AppData\\Local\\Temp\\tmprze67jt8'. The following endpoints are available:\n",
            "\n",
            "* Endpoint 'serve'\n",
            "  args_0 (POSITIONAL_ONLY): TensorSpec(shape=(None, 28, 28), dtype=tf.float32, name='input_layer')\n",
            "Output Type:\n",
            "  TensorSpec(shape=(None, 10), dtype=tf.float32, name=None)\n",
            "Captures:\n",
            "  2918869965840: TensorSpec(shape=(), dtype=tf.resource, name=None)\n",
            "  2918869971600: TensorSpec(shape=(), dtype=tf.resource, name=None)\n",
            "  2918869967376: TensorSpec(shape=(), dtype=tf.resource, name=None)\n",
            "  2918869970832: TensorSpec(shape=(), dtype=tf.resource, name=None)\n"
          ]
        }
      ],
      "source": [
        "# Convert to TensorFlow Lite\n",
        "converter = tf.lite.TFLiteConverter.from_keras_model(model)\n",
        "tflite_model = converter.convert()"
      ]
    },
    {
      "cell_type": "code",
      "execution_count": null,
      "id": "df5d2df3-cfff-4620-8372-b122ef729c47",
      "metadata": {
        "id": "df5d2df3-cfff-4620-8372-b122ef729c47",
        "outputId": "181dfe27-b55d-4eb5-8c24-a9967df08cbd"
      },
      "outputs": [
        {
          "name": "stdout",
          "output_type": "stream",
          "text": [
            "Model successfully converted and saved as mnist_model.tflite\n"
          ]
        }
      ],
      "source": [
        "# Save the converted model\n",
        "with open(\"mnist_model.tflite\", \"wb\") as f: f.write(tflite_model)\n",
        "print(\"Model successfully converted and saved as mnist_model.tflite\")"
      ]
    },
    {
      "cell_type": "code",
      "execution_count": null,
      "id": "5a3ad5a4-a1a5-4be4-95d2-240a58161369",
      "metadata": {
        "id": "5a3ad5a4-a1a5-4be4-95d2-240a58161369"
      },
      "outputs": [],
      "source": [
        "# Load TensorFlow Lite model\n",
        "interpreter = tf.lite.Interpreter(model_path=\"mnist_model.tflite\")\n",
        "interpreter.allocate_tensors()"
      ]
    },
    {
      "cell_type": "code",
      "execution_count": null,
      "id": "9889ee5d-b051-4460-ba45-f41b4c6f1c3c",
      "metadata": {
        "id": "9889ee5d-b051-4460-ba45-f41b4c6f1c3c",
        "outputId": "00a7a909-1c9a-46c6-b831-b4f29a7a1b46"
      },
      "outputs": [
        {
          "name": "stdout",
          "output_type": "stream",
          "text": [
            "Input Details: [{'name': 'serving_default_input_layer:0', 'index': 0, 'shape': array([ 1, 28, 28], dtype=int32), 'shape_signature': array([-1, 28, 28], dtype=int32), 'dtype': <class 'numpy.float32'>, 'quantization': (0.0, 0), 'quantization_parameters': {'scales': array([], dtype=float32), 'zero_points': array([], dtype=int32), 'quantized_dimension': 0}, 'sparsity_parameters': {}}]\n",
            "Output Details: [{'name': 'StatefulPartitionedCall_1:0', 'index': 9, 'shape': array([ 1, 10], dtype=int32), 'shape_signature': array([-1, 10], dtype=int32), 'dtype': <class 'numpy.float32'>, 'quantization': (0.0, 0), 'quantization_parameters': {'scales': array([], dtype=float32), 'zero_points': array([], dtype=int32), 'quantized_dimension': 0}, 'sparsity_parameters': {}}]\n"
          ]
        }
      ],
      "source": [
        "# Get input and output tensor details\n",
        "input_details = interpreter.get_input_details()\n",
        "output_details = interpreter.get_output_details()\n",
        "print(\"Input Details:\", input_details)\n",
        "print(\"Output Details:\", output_details)"
      ]
    },
    {
      "cell_type": "code",
      "execution_count": null,
      "id": "22d62119-ed92-4806-9612-7aa1d3bb6a33",
      "metadata": {
        "id": "22d62119-ed92-4806-9612-7aa1d3bb6a33"
      },
      "outputs": [],
      "source": [
        "# Select a test image\n",
        "test_image = x_test[0].astype(np.float32)"
      ]
    },
    {
      "cell_type": "code",
      "execution_count": null,
      "id": "217740b9-fcd7-4d9d-a093-3e4efed56777",
      "metadata": {
        "id": "217740b9-fcd7-4d9d-a093-3e4efed56777"
      },
      "outputs": [],
      "source": [
        "# Ensure data type matches model input\n",
        "test_image = np.expand_dims(test_image, axis=0)"
      ]
    },
    {
      "cell_type": "code",
      "execution_count": null,
      "id": "1454a258-3a6e-451f-87a4-6511f221930b",
      "metadata": {
        "id": "1454a258-3a6e-451f-87a4-6511f221930b"
      },
      "outputs": [],
      "source": [
        "# Reshape for model input\n",
        "# Set the input tensor\n",
        "interpreter.set_tensor(input_details[0]['index'], test_image)"
      ]
    },
    {
      "cell_type": "code",
      "execution_count": null,
      "id": "c2590fba-4c0a-47d6-9cbb-1ab707b61447",
      "metadata": {
        "id": "c2590fba-4c0a-47d6-9cbb-1ab707b61447"
      },
      "outputs": [],
      "source": [
        "# Run inference\n",
        "interpreter.invoke()"
      ]
    },
    {
      "cell_type": "code",
      "execution_count": null,
      "id": "dc05ae52-d593-48d3-b6d2-3f6608ce92c8",
      "metadata": {
        "id": "dc05ae52-d593-48d3-b6d2-3f6608ce92c8"
      },
      "outputs": [],
      "source": [
        "# Get the prediction\n",
        "output_data = interpreter.get_tensor(output_details[0]['index'])\n",
        "predicted_label = np.argmax(output_data)"
      ]
    },
    {
      "cell_type": "code",
      "execution_count": null,
      "id": "9cb13caf-a2b1-40b0-963f-1a5ef4cc4362",
      "metadata": {
        "id": "9cb13caf-a2b1-40b0-963f-1a5ef4cc4362",
        "outputId": "06a4faa0-596a-4609-d13a-e53f64cc460f"
      },
      "outputs": [
        {
          "data": {
            "image/png": "[encoded data removed]",
            "text/plain": [
              "<Figure size 640x480 with 1 Axes>"
            ]
          },
          "metadata": {},
          "output_type": "display_data"
        }
      ],
      "source": [
        "# Display the image and prediction\n",
        "plt.imshow(x_test[0], cmap=\"gray\")\n",
        "plt.title(f\"Predicted Label: {predicted_label}, Actual Label: {y_test[0]}\")\n",
        "plt.show()"
      ]
    },
    {
      "cell_type": "code",
      "execution_count": null,
      "id": "8e7cba45-d0dd-460d-b9e2-9e66d709046b",
      "metadata": {
        "id": "8e7cba45-d0dd-460d-b9e2-9e66d709046b"
      },
      "outputs": [],
      "source": []
    }
  ],
  "metadata": {
    "kernelspec": {
      "display_name": "Python 3 (ipykernel)",
      "language": "python",
      "name": "python3"
    },
    "language_info": {
      "codemirror_mode": {
        "name": "ipython",
        "version": 3
      },
      "file_extension": ".py",
      "mimetype": "text/x-python",
      "name": "python",
      "nbconvert_exporter": "python",
      "pygments_lexer": "ipython3",
      "version": "3.12.7"
    },
    "colab": {
      "provenance": []
    }
  },
  "nbformat": 4,
  "nbformat_minor": 5
}